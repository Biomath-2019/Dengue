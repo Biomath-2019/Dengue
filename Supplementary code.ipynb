{
 "cells": [
  {
   "cell_type": "code",
   "execution_count": 137,
   "metadata": {
    "collapsed": true
   },
   "outputs": [],
   "source": [
    "#packages\n",
    "pack = c(\"matrixStats\",\"tidyquant\",\"tmvtnorm\",\"Matrix\",\"openxlsx\",\"gridExtra\",\"tidyr\",\"reshape2\",\"readxl\",\"dplyr\",\"ggplot2\",\"magrittr\",\"ggpubr\")\n",
    "\n",
    "libraries = pack\n",
    "for(x in libraries) { library(x,character.only=TRUE,warn.conflicts=FALSE) }"
   ]
  },
  {
   "cell_type": "markdown",
   "metadata": {},
   "source": [
    "# Datasets for Dengue outbreak in Japan"
   ]
  },
  {
   "cell_type": "code",
   "execution_count": 138,
   "metadata": {},
   "outputs": [
    {
     "name": "stdout",
     "output_type": "stream",
     "text": [
      "the earliest observed date of exposure:  2014-08-04 \n",
      "Total number of cases:  156 \n"
     ]
    }
   ],
   "source": [
    "filename = \"Dengue_Japan2014.xlsx\"\n",
    "sheet.names = c(\"exact\",\"interval\",\"unknown\")\n",
    "\n",
    "n.sheet = length(sheet.names)\n",
    "temp=1\n",
    "for ( i in 1:n.sheet){\n",
    "  for (j in 1:n.sheet){\n",
    "    var1 = paste0(\"T\",i,\"_\",sheet.names[j])\n",
    "    read_excel(filename, sheet = temp) %>% ncol -> nclmns\n",
    "    data_ = read_excel(filename, sheet = temp,col_types = c(\"numeric\",rep(\"date\",nclmns-1)))\n",
    "    data = as.data.frame(cbind(i,sheet.names[j],data_))\n",
    "    colnames(data)<-c(\"T\",\"Type\",colnames(data)[3:ncol(data)])\n",
    "    temp = temp+1\n",
    "    assign(x=var1,value=data)}\n",
    "}\n",
    "\n",
    "Case_Group= list()\n",
    "Case_Group[[1]]<-rbind(T1_exact,T2_exact,T3_exact)\n",
    "Case_Group[[1]]%<>%mutate(E=as.Date(E),Onset=as.Date(Onset))\n",
    "\n",
    "Case_Group[[2]]<-rbind(T1_interval,T2_interval,T3_interval)\n",
    "Case_Group[[2]]%<>%mutate(E_L=as.Date(E_L),E_R=as.Date(E_R),Onset=as.Date(Onset))\n",
    "\n",
    "Case_Group[[3]]<-rbind(T1_unknown,T2_unknown,T3_unknown)\n",
    "Case_Group[[3]]%<>%mutate(Onset=as.Date(Onset))\n",
    "\n",
    "#number of cases by group\n",
    "ncases_group=sapply(Case_Group,\"nrow\")\n",
    "total.cases.nbr=sum(ncases_group)\n",
    "# The earliest observed date of exposure\n",
    "exposure.t0 <-as.Date(sort(c(Case_Group[[1]]$E,Case_Group[[2]]$E_R)))[1]\n",
    "cat(\"the earliest observed date of exposure: \",as.character(exposure.t0),\"\\n\")\n",
    "# total number of cases in Group 1, 2, 3\n",
    "cat(\"Total number of cases: \",total.cases.nbr,\"\\n\")"
   ]
  },
  {
   "cell_type": "code",
   "execution_count": 139,
   "metadata": {},
   "outputs": [
    {
     "name": "stdout",
     "output_type": "stream",
     "text": [
      "[1] \"Group 1 cases\"\n"
     ]
    },
    {
     "data": {
      "text/html": [
       "<table>\n",
       "<thead><tr><th scope=col>T</th><th scope=col>Type</th><th scope=col>ID</th><th scope=col>E</th><th scope=col>Onset</th></tr></thead>\n",
       "<tbody>\n",
       "\t<tr><td>1         </td><td>exact     </td><td>52        </td><td>2014-08-04</td><td>2014-08-12</td></tr>\n",
       "\t<tr><td>1         </td><td>exact     </td><td>78        </td><td>2014-08-07</td><td>2014-08-12</td></tr>\n",
       "\t<tr><td>1         </td><td>exact     </td><td>25        </td><td>2014-08-10</td><td>2014-08-14</td></tr>\n",
       "\t<tr><td>1         </td><td>exact     </td><td>50        </td><td>2014-08-09</td><td>2014-08-14</td></tr>\n",
       "\t<tr><td>1         </td><td>exact     </td><td>10        </td><td>2014-08-10</td><td>2014-08-17</td></tr>\n",
       "\t<tr><td>1         </td><td>exact     </td><td>12        </td><td>2014-08-11</td><td>2014-08-18</td></tr>\n",
       "\t<tr><td>1         </td><td>exact     </td><td>11        </td><td>2014-08-16</td><td>2014-08-21</td></tr>\n",
       "\t<tr><td>1         </td><td>exact     </td><td>15        </td><td>2014-08-17</td><td>2014-08-22</td></tr>\n",
       "\t<tr><td>1         </td><td>exact     </td><td>13        </td><td>2014-08-10</td><td>2014-08-23</td></tr>\n",
       "\t<tr><td>1         </td><td>exact     </td><td> 7        </td><td>2014-08-20</td><td>2014-08-24</td></tr>\n",
       "</tbody>\n",
       "</table>\n"
      ],
      "text/latex": [
       "\\begin{tabular}{r|lllll}\n",
       " T & Type & ID & E & Onset\\\\\n",
       "\\hline\n",
       "\t 1          & exact      & 52         & 2014-08-04 & 2014-08-12\\\\\n",
       "\t 1          & exact      & 78         & 2014-08-07 & 2014-08-12\\\\\n",
       "\t 1          & exact      & 25         & 2014-08-10 & 2014-08-14\\\\\n",
       "\t 1          & exact      & 50         & 2014-08-09 & 2014-08-14\\\\\n",
       "\t 1          & exact      & 10         & 2014-08-10 & 2014-08-17\\\\\n",
       "\t 1          & exact      & 12         & 2014-08-11 & 2014-08-18\\\\\n",
       "\t 1          & exact      & 11         & 2014-08-16 & 2014-08-21\\\\\n",
       "\t 1          & exact      & 15         & 2014-08-17 & 2014-08-22\\\\\n",
       "\t 1          & exact      & 13         & 2014-08-10 & 2014-08-23\\\\\n",
       "\t 1          & exact      &  7         & 2014-08-20 & 2014-08-24\\\\\n",
       "\\end{tabular}\n"
      ],
      "text/markdown": [
       "\n",
       "T | Type | ID | E | Onset | \n",
       "|---|---|---|---|---|---|---|---|---|---|\n",
       "| 1          | exact      | 52         | 2014-08-04 | 2014-08-12 | \n",
       "| 1          | exact      | 78         | 2014-08-07 | 2014-08-12 | \n",
       "| 1          | exact      | 25         | 2014-08-10 | 2014-08-14 | \n",
       "| 1          | exact      | 50         | 2014-08-09 | 2014-08-14 | \n",
       "| 1          | exact      | 10         | 2014-08-10 | 2014-08-17 | \n",
       "| 1          | exact      | 12         | 2014-08-11 | 2014-08-18 | \n",
       "| 1          | exact      | 11         | 2014-08-16 | 2014-08-21 | \n",
       "| 1          | exact      | 15         | 2014-08-17 | 2014-08-22 | \n",
       "| 1          | exact      | 13         | 2014-08-10 | 2014-08-23 | \n",
       "| 1          | exact      |  7         | 2014-08-20 | 2014-08-24 | \n",
       "\n",
       "\n"
      ],
      "text/plain": [
       "   T Type  ID E          Onset     \n",
       "1  1 exact 52 2014-08-04 2014-08-12\n",
       "2  1 exact 78 2014-08-07 2014-08-12\n",
       "3  1 exact 25 2014-08-10 2014-08-14\n",
       "4  1 exact 50 2014-08-09 2014-08-14\n",
       "5  1 exact 10 2014-08-10 2014-08-17\n",
       "6  1 exact 12 2014-08-11 2014-08-18\n",
       "7  1 exact 11 2014-08-16 2014-08-21\n",
       "8  1 exact 15 2014-08-17 2014-08-22\n",
       "9  1 exact 13 2014-08-10 2014-08-23\n",
       "10 1 exact  7 2014-08-20 2014-08-24"
      ]
     },
     "metadata": {},
     "output_type": "display_data"
    },
    {
     "name": "stdout",
     "output_type": "stream",
     "text": [
      "[1] \"Group 2 cases\"\n"
     ]
    },
    {
     "data": {
      "text/html": [
       "<table>\n",
       "<thead><tr><th scope=col>T</th><th scope=col>Type</th><th scope=col>ID</th><th scope=col>E_L</th><th scope=col>E_R</th><th scope=col>Onset</th></tr></thead>\n",
       "<tbody>\n",
       "\t<tr><td>1         </td><td>interval  </td><td>35        </td><td>2014-08-05</td><td>2014-08-13</td><td>2014-08-14</td></tr>\n",
       "\t<tr><td>1         </td><td>interval  </td><td> 4        </td><td>2014-08-09</td><td>2014-08-10</td><td>2014-08-16</td></tr>\n",
       "\t<tr><td>1         </td><td>interval  </td><td>16        </td><td>2014-08-09</td><td>2014-08-10</td><td>2014-08-16</td></tr>\n",
       "\t<tr><td>1         </td><td>interval  </td><td> 3        </td><td>2014-08-01</td><td>2014-08-17</td><td>2014-08-18</td></tr>\n",
       "\t<tr><td>1         </td><td>interval  </td><td> 1        </td><td>2014-08-11</td><td>2014-08-18</td><td>2014-08-20</td></tr>\n",
       "\t<tr><td>1         </td><td>interval  </td><td>19        </td><td>2014-08-16</td><td>2014-08-18</td><td>2014-08-23</td></tr>\n",
       "\t<tr><td>1         </td><td>interval  </td><td>20        </td><td>2014-08-16</td><td>2014-08-18</td><td>2014-08-23</td></tr>\n",
       "\t<tr><td>1         </td><td>interval  </td><td>31        </td><td>2014-08-16</td><td>2014-08-18</td><td>2014-08-23</td></tr>\n",
       "\t<tr><td>1         </td><td>interval  </td><td>71        </td><td>2014-08-16</td><td>2014-08-18</td><td>2014-08-23</td></tr>\n",
       "\t<tr><td>1         </td><td>interval  </td><td>24        </td><td>2014-08-16</td><td>2014-08-17</td><td>2014-08-24</td></tr>\n",
       "</tbody>\n",
       "</table>\n"
      ],
      "text/latex": [
       "\\begin{tabular}{r|llllll}\n",
       " T & Type & ID & E\\_L & E\\_R & Onset\\\\\n",
       "\\hline\n",
       "\t 1          & interval   & 35         & 2014-08-05 & 2014-08-13 & 2014-08-14\\\\\n",
       "\t 1          & interval   &  4         & 2014-08-09 & 2014-08-10 & 2014-08-16\\\\\n",
       "\t 1          & interval   & 16         & 2014-08-09 & 2014-08-10 & 2014-08-16\\\\\n",
       "\t 1          & interval   &  3         & 2014-08-01 & 2014-08-17 & 2014-08-18\\\\\n",
       "\t 1          & interval   &  1         & 2014-08-11 & 2014-08-18 & 2014-08-20\\\\\n",
       "\t 1          & interval   & 19         & 2014-08-16 & 2014-08-18 & 2014-08-23\\\\\n",
       "\t 1          & interval   & 20         & 2014-08-16 & 2014-08-18 & 2014-08-23\\\\\n",
       "\t 1          & interval   & 31         & 2014-08-16 & 2014-08-18 & 2014-08-23\\\\\n",
       "\t 1          & interval   & 71         & 2014-08-16 & 2014-08-18 & 2014-08-23\\\\\n",
       "\t 1          & interval   & 24         & 2014-08-16 & 2014-08-17 & 2014-08-24\\\\\n",
       "\\end{tabular}\n"
      ],
      "text/markdown": [
       "\n",
       "T | Type | ID | E_L | E_R | Onset | \n",
       "|---|---|---|---|---|---|---|---|---|---|\n",
       "| 1          | interval   | 35         | 2014-08-05 | 2014-08-13 | 2014-08-14 | \n",
       "| 1          | interval   |  4         | 2014-08-09 | 2014-08-10 | 2014-08-16 | \n",
       "| 1          | interval   | 16         | 2014-08-09 | 2014-08-10 | 2014-08-16 | \n",
       "| 1          | interval   |  3         | 2014-08-01 | 2014-08-17 | 2014-08-18 | \n",
       "| 1          | interval   |  1         | 2014-08-11 | 2014-08-18 | 2014-08-20 | \n",
       "| 1          | interval   | 19         | 2014-08-16 | 2014-08-18 | 2014-08-23 | \n",
       "| 1          | interval   | 20         | 2014-08-16 | 2014-08-18 | 2014-08-23 | \n",
       "| 1          | interval   | 31         | 2014-08-16 | 2014-08-18 | 2014-08-23 | \n",
       "| 1          | interval   | 71         | 2014-08-16 | 2014-08-18 | 2014-08-23 | \n",
       "| 1          | interval   | 24         | 2014-08-16 | 2014-08-17 | 2014-08-24 | \n",
       "\n",
       "\n"
      ],
      "text/plain": [
       "   T Type     ID E_L        E_R        Onset     \n",
       "1  1 interval 35 2014-08-05 2014-08-13 2014-08-14\n",
       "2  1 interval  4 2014-08-09 2014-08-10 2014-08-16\n",
       "3  1 interval 16 2014-08-09 2014-08-10 2014-08-16\n",
       "4  1 interval  3 2014-08-01 2014-08-17 2014-08-18\n",
       "5  1 interval  1 2014-08-11 2014-08-18 2014-08-20\n",
       "6  1 interval 19 2014-08-16 2014-08-18 2014-08-23\n",
       "7  1 interval 20 2014-08-16 2014-08-18 2014-08-23\n",
       "8  1 interval 31 2014-08-16 2014-08-18 2014-08-23\n",
       "9  1 interval 71 2014-08-16 2014-08-18 2014-08-23\n",
       "10 1 interval 24 2014-08-16 2014-08-17 2014-08-24"
      ]
     },
     "metadata": {},
     "output_type": "display_data"
    },
    {
     "name": "stdout",
     "output_type": "stream",
     "text": [
      "[1] \"Group 3 cases\"\n"
     ]
    },
    {
     "data": {
      "text/html": [
       "<table>\n",
       "<thead><tr><th scope=col>T</th><th scope=col>Type</th><th scope=col>ID</th><th scope=col>Onset</th></tr></thead>\n",
       "<tbody>\n",
       "\t<tr><td>1         </td><td>unknown   </td><td>  2       </td><td>2014-08-24</td></tr>\n",
       "\t<tr><td>1         </td><td>unknown   </td><td> 48       </td><td>2014-08-24</td></tr>\n",
       "\t<tr><td>1         </td><td>unknown   </td><td> 26       </td><td>2014-08-25</td></tr>\n",
       "\t<tr><td>2         </td><td>unknown   </td><td>118       </td><td>2014-08-29</td></tr>\n",
       "\t<tr><td>2         </td><td>unknown   </td><td> 27       </td><td>2014-08-30</td></tr>\n",
       "\t<tr><td>2         </td><td>unknown   </td><td> 67       </td><td>2014-08-30</td></tr>\n",
       "\t<tr><td>2         </td><td>unknown   </td><td> 82       </td><td>2014-08-30</td></tr>\n",
       "\t<tr><td>2         </td><td>unknown   </td><td> 95       </td><td>2014-08-30</td></tr>\n",
       "\t<tr><td>2         </td><td>unknown   </td><td>102       </td><td>2014-08-30</td></tr>\n",
       "\t<tr><td>2         </td><td>unknown   </td><td> 76       </td><td>2014-08-31</td></tr>\n",
       "</tbody>\n",
       "</table>\n"
      ],
      "text/latex": [
       "\\begin{tabular}{r|llll}\n",
       " T & Type & ID & Onset\\\\\n",
       "\\hline\n",
       "\t 1          & unknown    &   2        & 2014-08-24\\\\\n",
       "\t 1          & unknown    &  48        & 2014-08-24\\\\\n",
       "\t 1          & unknown    &  26        & 2014-08-25\\\\\n",
       "\t 2          & unknown    & 118        & 2014-08-29\\\\\n",
       "\t 2          & unknown    &  27        & 2014-08-30\\\\\n",
       "\t 2          & unknown    &  67        & 2014-08-30\\\\\n",
       "\t 2          & unknown    &  82        & 2014-08-30\\\\\n",
       "\t 2          & unknown    &  95        & 2014-08-30\\\\\n",
       "\t 2          & unknown    & 102        & 2014-08-30\\\\\n",
       "\t 2          & unknown    &  76        & 2014-08-31\\\\\n",
       "\\end{tabular}\n"
      ],
      "text/markdown": [
       "\n",
       "T | Type | ID | Onset | \n",
       "|---|---|---|---|---|---|---|---|---|---|\n",
       "| 1          | unknown    |   2        | 2014-08-24 | \n",
       "| 1          | unknown    |  48        | 2014-08-24 | \n",
       "| 1          | unknown    |  26        | 2014-08-25 | \n",
       "| 2          | unknown    | 118        | 2014-08-29 | \n",
       "| 2          | unknown    |  27        | 2014-08-30 | \n",
       "| 2          | unknown    |  67        | 2014-08-30 | \n",
       "| 2          | unknown    |  82        | 2014-08-30 | \n",
       "| 2          | unknown    |  95        | 2014-08-30 | \n",
       "| 2          | unknown    | 102        | 2014-08-30 | \n",
       "| 2          | unknown    |  76        | 2014-08-31 | \n",
       "\n",
       "\n"
      ],
      "text/plain": [
       "   T Type    ID  Onset     \n",
       "1  1 unknown   2 2014-08-24\n",
       "2  1 unknown  48 2014-08-24\n",
       "3  1 unknown  26 2014-08-25\n",
       "4  2 unknown 118 2014-08-29\n",
       "5  2 unknown  27 2014-08-30\n",
       "6  2 unknown  67 2014-08-30\n",
       "7  2 unknown  82 2014-08-30\n",
       "8  2 unknown  95 2014-08-30\n",
       "9  2 unknown 102 2014-08-30\n",
       "10 2 unknown  76 2014-08-31"
      ]
     },
     "metadata": {},
     "output_type": "display_data"
    }
   ],
   "source": [
    "print(\"Group 1 cases\")\n",
    "Case_Group[[1]]%>%head(10)\n",
    "print(\"Group 2 cases\")\n",
    "Case_Group[[2]]%>%head(10)\n",
    "print(\"Group 3 cases\")\n",
    "Case_Group[[3]]%>%head(10)"
   ]
  },
  {
   "cell_type": "markdown",
   "metadata": {},
   "source": [
    "# Figure 1"
   ]
  },
  {
   "cell_type": "code",
   "execution_count": 140,
   "metadata": {},
   "outputs": [
    {
     "data": {
      "image/png": "[encoded data removed]",
      "text/plain": [
       "plot without title"
      ]
     },
     "metadata": {},
     "output_type": "display_data"
    }
   ],
   "source": [
    "Type123_onset = rbind(Case_Group[[1]]%>%dplyr::select(Type,Onset),Case_Group[[2]]%>%dplyr::select(Type,Onset),Case_Group[[3]]%>%dplyr::select(Type,Onset))\n",
    "Type123_onset_table = Type123_onset%>%group_by(Type,Onset)%>%summarize(n=n())\n",
    "\n",
    "options(repr.plot.width=5.5,repr.plot.height=3.5)\n",
    "Type123=ggplot(Type123_onset_table, aes(x=Onset,y=n,group=Type,fill=Type) ) +\n",
    "  geom_bar(stat=\"identity\",show.legend = TRUE,colour=\"black\") +\n",
    "  scale_fill_manual(name=\"\",values=c(\"gray66\",\"white\",\"gray33\"),labels=c(\"Group 1\",\"Group 2\",\"Group 3\"))+\n",
    "  coord_x_date(xlim=c(as.Date(\"2014-8-7\"),as.Date(\"2014-10-10\")),ylim=c(0,12))+\n",
    "  scale_y_continuous(expand = c(0,0),breaks=seq(0,12,by=2))+\n",
    "  scale_x_date(date_breaks=\"7 day\",date_labels=\"%b %d\")+\n",
    "  labs(x=\"day\",y=\"Number of cases\")+\n",
    "  theme_bw(base_size=15)+theme(axis.text.x=element_text(size=12,angle = 90, vjust=0.5,hjust = 1),axis.text.y=element_text(size=15),axis.title=element_text(size=15),\n",
    "                               plot.title = element_text(size = 15,face=\"bold\"),\n",
    "                               legend.background = element_rect(fill=\"transparent\"), \n",
    "                               panel.grid= element_blank(),\n",
    "                               legend.text=element_text(size=15),\n",
    "                               legend.position = c(0.9,0.99),\n",
    "                               panel.border = element_rect(colour = \"black\", fill=NA, size=1),\n",
    "                               legend.justification = c(\"right\", \"top\"))\n",
    "print(Type123)\n"
   ]
  },
  {
   "cell_type": "markdown",
   "metadata": {},
   "source": [
    "# Incubation period by using cases in Group 1"
   ]
  },
  {
   "cell_type": "code",
   "execution_count": 141,
   "metadata": {},
   "outputs": [
    {
     "data": {
      "text/html": [
       "<table>\n",
       "<thead><tr><th scope=col>days</th><th scope=col>Freq</th></tr></thead>\n",
       "<tbody>\n",
       "\t<tr><td>2 </td><td> 1</td></tr>\n",
       "\t<tr><td>3 </td><td> 3</td></tr>\n",
       "\t<tr><td>4 </td><td> 8</td></tr>\n",
       "\t<tr><td>5 </td><td>18</td></tr>\n",
       "\t<tr><td>6 </td><td>18</td></tr>\n",
       "\t<tr><td>7 </td><td>12</td></tr>\n",
       "</tbody>\n",
       "</table>\n"
      ],
      "text/latex": [
       "\\begin{tabular}{r|ll}\n",
       " days & Freq\\\\\n",
       "\\hline\n",
       "\t 2  &  1\\\\\n",
       "\t 3  &  3\\\\\n",
       "\t 4  &  8\\\\\n",
       "\t 5  & 18\\\\\n",
       "\t 6  & 18\\\\\n",
       "\t 7  & 12\\\\\n",
       "\\end{tabular}\n"
      ],
      "text/markdown": [
       "\n",
       "days | Freq | \n",
       "|---|---|---|---|---|---|\n",
       "| 2  |  1 | \n",
       "| 3  |  3 | \n",
       "| 4  |  8 | \n",
       "| 5  | 18 | \n",
       "| 6  | 18 | \n",
       "| 7  | 12 | \n",
       "\n",
       "\n"
      ],
      "text/plain": [
       "  days Freq\n",
       "1 2     1  \n",
       "2 3     3  \n",
       "3 4     8  \n",
       "4 5    18  \n",
       "5 6    18  \n",
       "6 7    12  "
      ]
     },
     "metadata": {},
     "output_type": "display_data"
    }
   ],
   "source": [
    "incub= data.frame(days=as.numeric(Case_Group[[1]]$Onset-Case_Group[[1]]$E))\n",
    "tab.incub<-incub%>%group_by(days)%>%summarize(Freq=n())\n",
    "tab.incub%>%head"
   ]
  },
  {
   "cell_type": "code",
   "execution_count": 142,
   "metadata": {},
   "outputs": [
    {
     "name": "stdout",
     "output_type": "stream",
     "text": [
      "Final time:  73 ( 2014-07-27 - 2014-10-07 )"
     ]
    },
    {
     "data": {
      "text/html": [
       "<table>\n",
       "<thead><tr><th scope=col>time</th><th scope=col>date</th></tr></thead>\n",
       "<tbody>\n",
       "\t<tr><td> 1        </td><td>2014-07-27</td></tr>\n",
       "\t<tr><td> 2        </td><td>2014-07-28</td></tr>\n",
       "\t<tr><td> 3        </td><td>2014-07-29</td></tr>\n",
       "\t<tr><td> 4        </td><td>2014-07-30</td></tr>\n",
       "\t<tr><td> 5        </td><td>2014-07-31</td></tr>\n",
       "\t<tr><td> 6        </td><td>2014-08-01</td></tr>\n",
       "\t<tr><td> 7        </td><td>2014-08-02</td></tr>\n",
       "\t<tr><td> 8        </td><td>2014-08-03</td></tr>\n",
       "\t<tr><td> 9        </td><td>2014-08-04</td></tr>\n",
       "\t<tr><td>10        </td><td>2014-08-05</td></tr>\n",
       "</tbody>\n",
       "</table>\n"
      ],
      "text/latex": [
       "\\begin{tabular}{r|ll}\n",
       " time & date\\\\\n",
       "\\hline\n",
       "\t  1         & 2014-07-27\\\\\n",
       "\t  2         & 2014-07-28\\\\\n",
       "\t  3         & 2014-07-29\\\\\n",
       "\t  4         & 2014-07-30\\\\\n",
       "\t  5         & 2014-07-31\\\\\n",
       "\t  6         & 2014-08-01\\\\\n",
       "\t  7         & 2014-08-02\\\\\n",
       "\t  8         & 2014-08-03\\\\\n",
       "\t  9         & 2014-08-04\\\\\n",
       "\t 10         & 2014-08-05\\\\\n",
       "\\end{tabular}\n"
      ],
      "text/markdown": [
       "\n",
       "time | date | \n",
       "|---|---|---|---|---|---|---|---|---|---|\n",
       "|  1         | 2014-07-27 | \n",
       "|  2         | 2014-07-28 | \n",
       "|  3         | 2014-07-29 | \n",
       "|  4         | 2014-07-30 | \n",
       "|  5         | 2014-07-31 | \n",
       "|  6         | 2014-08-01 | \n",
       "|  7         | 2014-08-02 | \n",
       "|  8         | 2014-08-03 | \n",
       "|  9         | 2014-08-04 | \n",
       "| 10         | 2014-08-05 | \n",
       "\n",
       "\n"
      ],
      "text/plain": [
       "   time date      \n",
       "1   1   2014-07-27\n",
       "2   2   2014-07-28\n",
       "3   3   2014-07-29\n",
       "4   4   2014-07-30\n",
       "5   5   2014-07-31\n",
       "6   6   2014-08-01\n",
       "7   7   2014-08-02\n",
       "8   8   2014-08-03\n",
       "9   9   2014-08-04\n",
       "10 10   2014-08-05"
      ]
     },
     "metadata": {},
     "output_type": "display_data"
    }
   ],
   "source": [
    "# d0 was varied from 3 to 9 days\n",
    "d0=8\n",
    "# day0_exact: initial calendar day\n",
    "day0_exact=exposure.t0-d0 \n",
    "# control interventions implemented on \"Tdate\":\n",
    "# mosqutio control implented on T1\n",
    "# park closure implemented on T2\n",
    "Tdate = c(\"2014-08-28\",\"2014-09-04\")\n",
    "T1 =as.numeric(as.Date(Tdate[1])-day0_exact)+1 \n",
    "T2 =as.numeric(as.Date(Tdate[2])-day0_exact)+1 # park closure\n",
    "\n",
    "#cases in Group 1: case_exact\n",
    "Case_Group[[1]]%<>%mutate(day_onset=as.numeric(Onset-day0_exact+1))%<>%mutate(day_E=as.numeric(E-day0_exact+1))\n",
    "#cases in Group 2: case_interval\n",
    "Case_Group[[2]]%<>%mutate(day_onset=as.numeric(Onset-day0_exact+1))%>%\n",
    "  mutate(day_EL=as.numeric(E_L-day0_exact+1))%>%\n",
    "  mutate(day_ER=as.numeric(E_R-day0_exact+1))\n",
    "#cases in Group 3: case_unknown\n",
    "Case_Group[[3]]%<>%mutate(day_onset=as.numeric(Onset-day0_exact+1))\n",
    "\n",
    "# finial time\n",
    "tfinal = max(c(Case_Group[[1]]$day_onset,Case_Group[[2]]$day_onset,Case_Group[[3]]$day_onset))\n",
    "date.time<-(day0_exact+c(0:(tfinal-1)))\n",
    "tt=(1:(tfinal))\n",
    "cat(\"Final time: \",tfinal,\"(\",as.character(date.time[1]),\"-\",as.character(date.time[tfinal]),\")\")\n",
    "(data.frame(time=1:tfinal,date=date.time)%>%head(10))"
   ]
  },
  {
   "cell_type": "markdown",
   "metadata": {},
   "source": [
    "# Probability of observed cases"
   ]
  },
  {
   "cell_type": "code",
   "execution_count": 143,
   "metadata": {},
   "outputs": [
    {
     "data": {
      "text/html": [
       "<table>\n",
       "<thead><tr><th></th><th scope=col>group1.obs</th><th scope=col>group2.obs</th><th scope=col>group3.obs</th><th scope=col>Total</th></tr></thead>\n",
       "<tbody>\n",
       "\t<tr><th scope=row>64</th><td>1</td><td>0</td><td>0</td><td>1</td></tr>\n",
       "\t<tr><th scope=row>65</th><td>0</td><td>0</td><td>1</td><td>1</td></tr>\n",
       "\t<tr><th scope=row>66</th><td>0</td><td>0</td><td>0</td><td>0</td></tr>\n",
       "\t<tr><th scope=row>67</th><td>0</td><td>0</td><td>0</td><td>0</td></tr>\n",
       "\t<tr><th scope=row>68</th><td>0</td><td>0</td><td>0</td><td>0</td></tr>\n",
       "\t<tr><th scope=row>69</th><td>0</td><td>1</td><td>0</td><td>1</td></tr>\n",
       "\t<tr><th scope=row>70</th><td>1</td><td>0</td><td>0</td><td>1</td></tr>\n",
       "\t<tr><th scope=row>71</th><td>0</td><td>0</td><td>0</td><td>0</td></tr>\n",
       "\t<tr><th scope=row>72</th><td>0</td><td>0</td><td>0</td><td>0</td></tr>\n",
       "\t<tr><th scope=row>73</th><td>0</td><td>0</td><td>1</td><td>1</td></tr>\n",
       "</tbody>\n",
       "</table>\n"
      ],
      "text/latex": [
       "\\begin{tabular}{r|llll}\n",
       "  & group1.obs & group2.obs & group3.obs & Total\\\\\n",
       "\\hline\n",
       "\t64 & 1 & 0 & 0 & 1\\\\\n",
       "\t65 & 0 & 0 & 1 & 1\\\\\n",
       "\t66 & 0 & 0 & 0 & 0\\\\\n",
       "\t67 & 0 & 0 & 0 & 0\\\\\n",
       "\t68 & 0 & 0 & 0 & 0\\\\\n",
       "\t69 & 0 & 1 & 0 & 1\\\\\n",
       "\t70 & 1 & 0 & 0 & 1\\\\\n",
       "\t71 & 0 & 0 & 0 & 0\\\\\n",
       "\t72 & 0 & 0 & 0 & 0\\\\\n",
       "\t73 & 0 & 0 & 1 & 1\\\\\n",
       "\\end{tabular}\n"
      ],
      "text/markdown": [
       "\n",
       "| <!--/--> | group1.obs | group2.obs | group3.obs | Total | \n",
       "|---|---|---|---|---|---|---|---|---|---|\n",
       "| 64 | 1 | 0 | 0 | 1 | \n",
       "| 65 | 0 | 0 | 1 | 1 | \n",
       "| 66 | 0 | 0 | 0 | 0 | \n",
       "| 67 | 0 | 0 | 0 | 0 | \n",
       "| 68 | 0 | 0 | 0 | 0 | \n",
       "| 69 | 0 | 1 | 0 | 1 | \n",
       "| 70 | 1 | 0 | 0 | 1 | \n",
       "| 71 | 0 | 0 | 0 | 0 | \n",
       "| 72 | 0 | 0 | 0 | 0 | \n",
       "| 73 | 0 | 0 | 1 | 1 | \n",
       "\n",
       "\n"
      ],
      "text/plain": [
       "   group1.obs group2.obs group3.obs Total\n",
       "64 1          0          0          1    \n",
       "65 0          0          1          1    \n",
       "66 0          0          0          0    \n",
       "67 0          0          0          0    \n",
       "68 0          0          0          0    \n",
       "69 0          1          0          1    \n",
       "70 1          0          0          1    \n",
       "71 0          0          0          0    \n",
       "72 0          0          0          0    \n",
       "73 0          0          1          1    "
      ]
     },
     "metadata": {},
     "output_type": "display_data"
    }
   ],
   "source": [
    "epicurve_group = list()\n",
    "observed_cases = data.frame(group1.obs=rep(0,tfinal),group2.obs=0,group3.obs=0)\n",
    "# number of groups\n",
    "n_group = ncol(observed_cases)\n",
    "\n",
    "for (i in 1:n_group){\n",
    "    epicurve_cases=Case_Group[[i]]%>%arrange(Onset)\n",
    "    epicurve_group[[i]]<-epicurve_cases%>%group_by(Onset)%>%summarize(Obs=n())\n",
    "    epicurve_group[[i]]%<>%mutate(day=sort(unique(Case_Group[[i]]$day_onset)))\n",
    "    observed_cases[epicurve_group[[i]]$day,i] = epicurve_group[[i]]$Obs\n",
    "}   \n",
    "\n",
    "observed_cases%<>%mutate(Total=group1.obs+group2.obs+group3.obs)\n",
    "observed_cases%>%tail(10)"
   ]
  },
  {
   "cell_type": "markdown",
   "metadata": {},
   "source": [
    "# Equation (1) for $g_s$ : the generation time from infection in a human to infection in its secondary case via a mosquito"
   ]
  },
  {
   "cell_type": "code",
   "execution_count": 144,
   "metadata": {
    "collapsed": true
   },
   "outputs": [],
   "source": [
    "gam= function(t,para){\n",
    "  g.mu = para[1]\n",
    "  g.var = (para[2])^2\n",
    "  shape1 = g.mu^2/g.var\n",
    "  scale1 = g.var/g.mu\n",
    "  gt =  pgamma(t, shape=shape1, scale=scale1)-pgamma((t-1),shape=shape1, scale=scale1)\n",
    "  return(gt)\n",
    "}\n",
    "\n",
    "\n",
    "gs <-function(tt,p.g1,p.g2){\n",
    "  gt=rep(0,length(tt))\n",
    "  for (j in 1:length(tt)){\n",
    "    t=tt[j]\n",
    "    tau1=(0:t)\n",
    "    f=(gam(tau1,p.g1)*gam((t-tau1),p.g2))\n",
    "    gt[j]=sum(f)\n",
    "  }\n",
    "  return(gt)\n",
    "}"
   ]
  },
  {
   "cell_type": "markdown",
   "metadata": {},
   "source": [
    "# Convoultions of $g_s$ to define $(g*g)_t$"
   ]
  },
  {
   "cell_type": "code",
   "execution_count": 145,
   "metadata": {
    "collapsed": true
   },
   "outputs": [],
   "source": [
    "gs_conv2 <-function(tt,p.g1,p.g2){\n",
    "  gt=rep(0,length(tt))\n",
    "  for (j in 1:length(tt)){\n",
    "    t=tt[j]\n",
    "    tau1=(0:t)\n",
    "    f=(gs(tau1,p.g1,p.g2)*gs((t-tau1),p.g1,p.g2))\n",
    "    gt[j]=sum(f)\n",
    "  }\n",
    "  return(gt)\n",
    "}"
   ]
  },
  {
   "cell_type": "markdown",
   "metadata": {},
   "source": [
    "# Equations (3)-(5) of $h(t)$ and $u(t)$ "
   ]
  },
  {
   "cell_type": "code",
   "execution_count": 146,
   "metadata": {
    "collapsed": true
   },
   "outputs": [],
   "source": [
    "ut_gen2<-function(t,params){\n",
    "  \n",
    "    # unknown parameters\n",
    "      pg1 = params[1:2]\n",
    "      pg2 = params[3:4]\n",
    "      Rm = params[5]\n",
    "      epsils = params[6:7]\n",
    "    # convolutions of gs\n",
    "      f1 = gs(t,pg1,pg2)\n",
    "      f2 = gs_conv2(t,pg1,pg2)\n",
    "     \n",
    "    coef = c(1,Rm)\n",
    "    norm.coef = coef/sum(coef)\n",
    "    \n",
    "    # equation (3) : ht\n",
    "      ht <-(norm.coef[1]*f1+norm.coef[2]*f2)\n",
    "    \n",
    "    # equation (4) : epsilon_t \n",
    "      epsilon_t = rep(1,length(t))\n",
    "    # mosqutio control\n",
    "      epsilon_t[t>=T1]=epsils[1]  \n",
    "    # park closure\n",
    "     if (length(epsils)>1){ epsilon_t[t>=T2]=epsils[1]*epsils[2] }\n",
    "      ht.epsilon_t = ht*epsilon_t\n",
    "  \n",
    "    # equation (5) : ut\n",
    "     ut=rep(0,length(t))\n",
    "     Tprob = sum(ht.epsilon_t)\n",
    "     if (Tprob>0){ ut = ht.epsilon_t/sum(ht.epsilon_t) } \n",
    "    \n",
    "  return(ut)\n",
    "\n",
    "}"
   ]
  },
  {
   "cell_type": "markdown",
   "metadata": {},
   "source": [
    "# Equations (7) - (11) Likelihood functions"
   ]
  },
  {
   "cell_type": "code",
   "execution_count": 147,
   "metadata": {
    "collapsed": true
   },
   "outputs": [],
   "source": [
    "# Define new variable according to cases in Group 1, 2, 3.\n",
    "case_exact = Case_Group[[1]]\n",
    "case_interval = Case_Group[[2]]\n",
    "case_unknown = Case_Group[[3]]\n",
    "\n",
    "\n",
    "MLE_prob = function(params){\n",
    "  #unknown parameters\n",
    "    # mu_ip and sigma_ip\n",
    "    ip_para=params[1:2]\n",
    "    # mu_trans, sigma_trans, Rm, epsilon\n",
    "    g_para=params\n",
    "   gtt = ut_gen2((1:tfinal),g_para)\n",
    " \n",
    "    \n",
    "    # Equation (7) for likelihood function for cases in Group 1\n",
    "  gt.group1=gtt[case_exact$day_E]\n",
    "  ip.group1=gam(case_exact$day_onset-case_exact$day_E,ip_para)\n",
    "  prob.group1=gt.group1*ip.group1\n",
    "  \n",
    "  prob.group1[prob.group1<=0]=1e-15\n",
    "  (LLH.group1 = sum(log(prob.group1)))\n",
    "  \n",
    "  \n",
    "    # Equation (8) for likelihood function for cases in Group 2\n",
    "  (t_EL = case_interval$day_EL)\n",
    "  (t_ER = case_interval$day_ER)\n",
    "  \n",
    "  prob.group2=rep(0,ncases_group[2])\n",
    "  for (i in 1:ncases_group[2]){\n",
    "    (u=(t_EL[i]:t_ER[i]))\n",
    "    u<-u[u>0]\n",
    "    (ts = case_interval$day_onset[i])\n",
    "    (gam.prob=gtt[u])\n",
    "    (prob.group2[i]=sum((gam.prob)*(gam((ts-u),ip_para))))\n",
    "  }\n",
    "  \n",
    "  prob.group2[prob.group2<=0]=1e-15\n",
    "  (LLH.group2= sum(log(prob.group2)))\n",
    "  \n",
    "  \n",
    "# Equation (9) for likelihood function for cases in Group 3\n",
    "  prob.group3=rep(0,ncases_group[3])\n",
    "  for (i in 1:ncases_group[3]){\n",
    "    (ts = case_unknown$day_onset[i])\n",
    "    (u=(1:(ts-1)))\n",
    "    (gam.prob=gtt[u])   \n",
    "    (prob.group3[i]=(sum(gam.prob*(gam((ts-u),ip_para)))))\n",
    "  }\n",
    "  \n",
    "  prob.group3[prob.group3<=0]=1e-15\n",
    "  (LLH.group3 = sum(log(prob.group3)))\n",
    "  \n",
    "# Equation (10) for likelihood function for incubatio period of cases in Group 3\n",
    "  ftt =  gam(tab.incub$days,ip_para)\n",
    "  ftt[ftt<=0]=1e-15\n",
    "  LLH.incubation=sum(tab.incub$Freq*log(ftt))\n",
    "  \n",
    "# Equation (11) for total likelihood function \n",
    "  loglk=-(LLH.group1+LLH.group2+LLH.group3+LLH.incubation)\n",
    "  return(loglk)\n",
    "}"
   ]
  },
  {
   "cell_type": "markdown",
   "metadata": {},
   "source": [
    "# Maximum likelihood estimation (MLE)"
   ]
  },
  {
   "cell_type": "code",
   "execution_count": 148,
   "metadata": {},
   "outputs": [
    {
     "data": {
      "text/html": [
       "<table>\n",
       "<thead><tr><th scope=col>IP_mean</th><th scope=col>IP_std</th><th scope=col>trans_mean</th><th scope=col>trans_std</th><th scope=col>R1</th><th scope=col>epsilon1</th><th scope=col>epsilon2</th></tr></thead>\n",
       "<tbody>\n",
       "\t<tr><td>5.76</td><td>1.84</td><td>11.4</td><td>7.3 </td><td>9.35</td><td>0.66</td><td>0.61</td></tr>\n",
       "</tbody>\n",
       "</table>\n"
      ],
      "text/latex": [
       "\\begin{tabular}{lllllll}\n",
       " IP\\_mean & IP\\_std & trans\\_mean & trans\\_std & R1 & epsilon1 & epsilon2\\\\\n",
       "\\hline\n",
       "\t 5.76 & 1.84 & 11.4 & 7.3  & 9.35 & 0.66 & 0.61\\\\\n",
       "\\end{tabular}\n"
      ],
      "text/markdown": [
       "\n",
       "IP_mean | IP_std | trans_mean | trans_std | R1 | epsilon1 | epsilon2 | \n",
       "|---|\n",
       "| 5.76 | 1.84 | 11.4 | 7.3  | 9.35 | 0.66 | 0.61 | \n",
       "\n",
       "\n"
      ],
      "text/plain": [
       "     IP_mean IP_std trans_mean trans_std R1   epsilon1 epsilon2\n",
       "[1,] 5.76    1.84   11.4       7.3       9.35 0.66     0.61    "
      ]
     },
     "metadata": {},
     "output_type": "display_data"
    },
    {
     "data": {
      "text/html": [
       "<table>\n",
       "<thead><tr><th scope=col>Model</th><th scope=col>IP_mean</th><th scope=col>IP_std</th><th scope=col>trans_mean</th><th scope=col>trans_std</th><th scope=col>R1</th><th scope=col>epsilon1</th><th scope=col>epsilon2</th><th scope=col>AIC</th><th scope=col>AICc</th></tr></thead>\n",
       "<tbody>\n",
       "\t<tr><td>Generation 2</td><td>5.760325    </td><td>1.838219    </td><td>12.0258     </td><td>7.216734    </td><td>10.01507    </td><td>0.6307368   </td><td>0.5977886   </td><td>1854.475    </td><td>1855.232    </td></tr>\n",
       "</tbody>\n",
       "</table>\n"
      ],
      "text/latex": [
       "\\begin{tabular}{r|llllllllll}\n",
       " Model & IP\\_mean & IP\\_std & trans\\_mean & trans\\_std & R1 & epsilon1 & epsilon2 & AIC & AICc\\\\\n",
       "\\hline\n",
       "\t Generation 2 & 5.760325     & 1.838219     & 12.0258      & 7.216734     & 10.01507     & 0.6307368    & 0.5977886    & 1854.475     & 1855.232    \\\\\n",
       "\\end{tabular}\n"
      ],
      "text/markdown": [
       "\n",
       "Model | IP_mean | IP_std | trans_mean | trans_std | R1 | epsilon1 | epsilon2 | AIC | AICc | \n",
       "|---|\n",
       "| Generation 2 | 5.760325     | 1.838219     | 12.0258      | 7.216734     | 10.01507     | 0.6307368    | 0.5977886    | 1854.475     | 1855.232     | \n",
       "\n",
       "\n"
      ],
      "text/plain": [
       "  Model        IP_mean  IP_std   trans_mean trans_std R1       epsilon1 \n",
       "1 Generation 2 5.760325 1.838219 12.0258    7.216734  10.01507 0.6307368\n",
       "  epsilon2  AIC      AICc    \n",
       "1 0.5977886 1854.475 1855.232"
      ]
     },
     "metadata": {},
     "output_type": "display_data"
    }
   ],
   "source": [
    "#initial condition for unknown parameter for estimation\n",
    "(params = t(c(IP_mean=5.76, IP_std=1.84, trans_mean=11.4, trans_std=7.3,R1=9.35,epsilon1=0.66,epsilon2=0.61)))\n",
    "# number of parameters to be estimated.\n",
    "tot_num_para = length(params)\n",
    "upper_bd=c(rep(1000,(tot_num_para-2)),rep(1,2))  \n",
    "optim_estimation<-optim(MLE_prob,par=params,method=\"L-BFGS\",lower=(rep(0.0000001,tot_num_para)),upper = upper_bd,hessian=TRUE)\n",
    "  esti_para=optim_estimation$par\n",
    "  hessian_matrix = optim_estimation$hessian\n",
    "  AIC=(2*tot_num_para+2*optim_estimation$value)\n",
    "  AICc=AIC+(2*tot_num_para^2+2*tot_num_para)/(total.cases.nbr-tot_num_para-1)\n",
    "    data.frame(Model=\"Generation 2\",esti_para,AIC=AIC,AICc)\n"
   ]
  },
  {
   "cell_type": "markdown",
   "metadata": {},
   "source": [
    "# Equation (6) for effective reproduction number (R(t))"
   ]
  },
  {
   "cell_type": "code",
   "execution_count": 149,
   "metadata": {
    "collapsed": true
   },
   "outputs": [],
   "source": [
    "cal_rt = function(params){\n",
    "\n",
    "    prob_K =ut_gen2(tt,params)\n",
    "\n",
    "    # mu_ip, sigma_ip\n",
    "  ip_para1=params[1:2]\n",
    "    # mu_trans, sigma_trans\n",
    "  trans_para1=params[3:4]\n",
    "  (inci<-prob_K*total.cases.nbr)\n",
    "  (f1 = gs(tt,ip_para1,trans_para1))\n",
    "\n",
    "  norm_prob = rep(0,tfinal)\n",
    "  for (t_i in 2:tfinal){\n",
    "    tau=1:(t_i-1)\n",
    "    norm_prob[t_i]=max(1e-10,sum(inci[t_i-tau]*f1[tau]))\n",
    "  }\n",
    "  (Rtt = inci/norm_prob)\n",
    "  Rtt[is.na(Rtt)]=0\n",
    "  \n",
    "  return(Rtt)\n",
    "}"
   ]
  },
  {
   "cell_type": "markdown",
   "metadata": {},
   "source": [
    "# Bootstrap for R(t)"
   ]
  },
  {
   "cell_type": "code",
   "execution_count": 150,
   "metadata": {},
   "outputs": [
    {
     "data": {
      "text/html": [
       "<table>\n",
       "<thead><tr><th></th><th scope=col>lower</th><th scope=col>upper</th><th scope=col>esti</th><th scope=col>date</th></tr></thead>\n",
       "<tbody>\n",
       "\t<tr><th scope=row>64</th><td>0.02498516</td><td>0.1474637 </td><td>0.09271988</td><td>2014-09-28</td></tr>\n",
       "\t<tr><th scope=row>65</th><td>0.02258996</td><td>0.1407164 </td><td>0.08763812</td><td>2014-09-29</td></tr>\n",
       "\t<tr><th scope=row>66</th><td>0.02046424</td><td>0.1351843 </td><td>0.08285631</td><td>2014-09-30</td></tr>\n",
       "\t<tr><th scope=row>67</th><td>0.01857376</td><td>0.1303014 </td><td>0.07835660</td><td>2014-10-01</td></tr>\n",
       "\t<tr><th scope=row>68</th><td>0.01688912</td><td>0.1263563 </td><td>0.07412268</td><td>2014-10-02</td></tr>\n",
       "\t<tr><th scope=row>69</th><td>0.01538499</td><td>0.1227101 </td><td>0.07013945</td><td>2014-10-03</td></tr>\n",
       "\t<tr><th scope=row>70</th><td>0.01403947</td><td>0.1186125 </td><td>0.06639277</td><td>2014-10-04</td></tr>\n",
       "\t<tr><th scope=row>71</th><td>0.01283361</td><td>0.1140320 </td><td>0.06286923</td><td>2014-10-05</td></tr>\n",
       "\t<tr><th scope=row>72</th><td>0.01175096</td><td>0.1096631 </td><td>0.05955609</td><td>2014-10-06</td></tr>\n",
       "\t<tr><th scope=row>73</th><td>0.01132108</td><td>0.1054559 </td><td>0.05644119</td><td>2014-10-07</td></tr>\n",
       "</tbody>\n",
       "</table>\n"
      ],
      "text/latex": [
       "\\begin{tabular}{r|llll}\n",
       "  & lower & upper & esti & date\\\\\n",
       "\\hline\n",
       "\t64 & 0.02498516 & 0.1474637  & 0.09271988 & 2014-09-28\\\\\n",
       "\t65 & 0.02258996 & 0.1407164  & 0.08763812 & 2014-09-29\\\\\n",
       "\t66 & 0.02046424 & 0.1351843  & 0.08285631 & 2014-09-30\\\\\n",
       "\t67 & 0.01857376 & 0.1303014  & 0.07835660 & 2014-10-01\\\\\n",
       "\t68 & 0.01688912 & 0.1263563  & 0.07412268 & 2014-10-02\\\\\n",
       "\t69 & 0.01538499 & 0.1227101  & 0.07013945 & 2014-10-03\\\\\n",
       "\t70 & 0.01403947 & 0.1186125  & 0.06639277 & 2014-10-04\\\\\n",
       "\t71 & 0.01283361 & 0.1140320  & 0.06286923 & 2014-10-05\\\\\n",
       "\t72 & 0.01175096 & 0.1096631  & 0.05955609 & 2014-10-06\\\\\n",
       "\t73 & 0.01132108 & 0.1054559  & 0.05644119 & 2014-10-07\\\\\n",
       "\\end{tabular}\n"
      ],
      "text/markdown": [
       "\n",
       "| <!--/--> | lower | upper | esti | date | \n",
       "|---|---|---|---|---|---|---|---|---|---|\n",
       "| 64 | 0.02498516 | 0.1474637  | 0.09271988 | 2014-09-28 | \n",
       "| 65 | 0.02258996 | 0.1407164  | 0.08763812 | 2014-09-29 | \n",
       "| 66 | 0.02046424 | 0.1351843  | 0.08285631 | 2014-09-30 | \n",
       "| 67 | 0.01857376 | 0.1303014  | 0.07835660 | 2014-10-01 | \n",
       "| 68 | 0.01688912 | 0.1263563  | 0.07412268 | 2014-10-02 | \n",
       "| 69 | 0.01538499 | 0.1227101  | 0.07013945 | 2014-10-03 | \n",
       "| 70 | 0.01403947 | 0.1186125  | 0.06639277 | 2014-10-04 | \n",
       "| 71 | 0.01283361 | 0.1140320  | 0.06286923 | 2014-10-05 | \n",
       "| 72 | 0.01175096 | 0.1096631  | 0.05955609 | 2014-10-06 | \n",
       "| 73 | 0.01132108 | 0.1054559  | 0.05644119 | 2014-10-07 | \n",
       "\n",
       "\n"
      ],
      "text/plain": [
       "   lower      upper     esti       date      \n",
       "64 0.02498516 0.1474637 0.09271988 2014-09-28\n",
       "65 0.02258996 0.1407164 0.08763812 2014-09-29\n",
       "66 0.02046424 0.1351843 0.08285631 2014-09-30\n",
       "67 0.01857376 0.1303014 0.07835660 2014-10-01\n",
       "68 0.01688912 0.1263563 0.07412268 2014-10-02\n",
       "69 0.01538499 0.1227101 0.07013945 2014-10-03\n",
       "70 0.01403947 0.1186125 0.06639277 2014-10-04\n",
       "71 0.01283361 0.1140320 0.06286923 2014-10-05\n",
       "72 0.01175096 0.1096631 0.05955609 2014-10-06\n",
       "73 0.01132108 0.1054559 0.05644119 2014-10-07"
      ]
     },
     "metadata": {},
     "output_type": "display_data"
    }
   ],
   "source": [
    "nsample = 100\n",
    "ci_value = c(0.025,0.975)\n",
    "ci_name =c(\"lower\",\"upper\")\n",
    "nci = length(ci_value)\n",
    "\n",
    "sigmat<-solve(hessian_matrix[,1:tot_num_para])\n",
    "sigmat2<-forceSymmetric(sigmat,uplo=\"L\")\n",
    "hess_sam<-rtmvnorm(n=nsample,mean=as.vector(esti_para),sigma=sigmat2,lower=rep(0,tot_num_para),upper=c(rep(Inf,(tot_num_para-2)),1,1))\n",
    "\n",
    "Rtsample=data.frame(matrix(rep(0,nsample*tfinal),ncol=tfinal))\n",
    "for (i in 1:nsample){\n",
    "    sample_para = hess_sam[i,]\n",
    "  Rtsample[i,] = cal_rt(sample_para)\n",
    "}\n",
    "\n",
    "base_Rt = cal_rt(esti_para)\n",
    "xdate=((day0_exact)+(tt-1))\n",
    "CI_rt=data.frame(matrix(rep(0,nci*tfinal),ncol=nci))\n",
    "colnames(CI_rt)<-ci_name\n",
    "\n",
    "for (j in 1:tfinal){\n",
    "  CI_rt[j,]=as.numeric(quantile(Rtsample[,j],probs=ci_value))\n",
    "}\n",
    "\n",
    "CI_rt%<>%mutate(esti=base_Rt,date=xdate)\n",
    "CI_rt%>%tail(10)"
   ]
  },
  {
   "cell_type": "markdown",
   "metadata": {},
   "source": [
    "# Probability by the number of generation ($u_m(t)$) from u(t)"
   ]
  },
  {
   "cell_type": "code",
   "execution_count": 151,
   "metadata": {
    "collapsed": true
   },
   "outputs": [],
   "source": [
    "# generation-dependent u_m(t)\n",
    "ut_bygen_gen2<-function(t,params){\n",
    "  # unknown paraeters\n",
    "      pg1 = params[1:2]\n",
    "      pg2 = params[3:4]\n",
    "      Rm = params[5]\n",
    "      epsils = params[6:7]\n",
    "  \n",
    "    # convolutions of gs\n",
    "      f1 = gs(t,pg1,pg2)\n",
    "      f2 = gs_conv2(t,pg1,pg2)\n",
    "  \n",
    "    coef = c(1,Rm)\n",
    "    norm.coef = coef/sum(coef)\n",
    "  \n",
    "  ht_total <-(norm.coef[1]*f1+norm.coef[2]*f2)\n",
    "  ht_first <-(norm.coef[1]*f1)\n",
    "  ht_second<-(norm.coef[2]*f2)\n",
    " \n",
    "  \n",
    "    # equation (4) : epsilon_t \n",
    "      epsilon_t = rep(1,length(t))\n",
    "    # mosqutio control\n",
    "      epsilon_t[t>=T1]=epsils[1]  \n",
    "    # park closure\n",
    "      if (length(epsils)>1){\n",
    "        (epsilon_t[t>=T2]=epsils[1]*epsils[2])\n",
    "      }\n",
    "     \n",
    "  #ht*epsilon(t)\n",
    "  ht_total.epsilon_t = ht_total*epsilon_t\n",
    "  ht_first.epsilon_t = ht_first*epsilon_t\n",
    "  ht_second.epsilon_t = ht_second*epsilon_t\n",
    "  \n",
    "  \n",
    "  # ut\n",
    "  ut_total = ht_total.epsilon_t/sum(ht_total.epsilon_t)\n",
    "  ut_1st = ht_first.epsilon_t/sum(ht_total.epsilon_t)\n",
    "  ut_2nd = ht_second.epsilon_t/sum(ht_total.epsilon_t)\n",
    " \n",
    "  ut_prob=data.frame(ut_total,ut_1st,ut_2nd)\n",
    "  return(ut_prob)\n",
    "}"
   ]
  },
  {
   "cell_type": "markdown",
   "metadata": {},
   "source": [
    "# Estimated cases and R(t) for Figure 3 & 4"
   ]
  },
  {
   "cell_type": "code",
   "execution_count": 155,
   "metadata": {},
   "outputs": [
    {
     "data": {
      "text/html": [
       "<table>\n",
       "<thead><tr><th scope=col>time</th><th scope=col>first</th><th scope=col>second</th><th scope=col>total</th><th scope=col>Rt</th><th scope=col>lower</th><th scope=col>upper</th><th scope=col>Obs</th><th scope=col>date</th></tr></thead>\n",
       "<tbody>\n",
       "\t<tr><td>68          </td><td>8.689993e-05</td><td>0.07173964  </td><td>0.07182654  </td><td>0.07412268  </td><td>0.01688912  </td><td>0.1263563   </td><td>0           </td><td>2014-10-02  </td></tr>\n",
       "\t<tr><td>69          </td><td>7.299791e-05</td><td>0.06477476  </td><td>0.06484776  </td><td>0.07013945  </td><td>0.01538499  </td><td>0.1227101   </td><td>1           </td><td>2014-10-03  </td></tr>\n",
       "\t<tr><td>70          </td><td>6.075383e-05</td><td>0.05728288  </td><td>0.05734364  </td><td>0.06639277  </td><td>0.01403947  </td><td>0.1186125   </td><td>1           </td><td>2014-10-04  </td></tr>\n",
       "\t<tr><td>71          </td><td>4.902833e-05</td><td>0.04880274  </td><td>0.04885177  </td><td>0.06286923  </td><td>0.01283361  </td><td>0.1140320   </td><td>0           </td><td>2014-10-05  </td></tr>\n",
       "\t<tr><td>72          </td><td>3.858833e-05</td><td>0.04053926  </td><td>0.04057785  </td><td>0.05955609  </td><td>0.01175096  </td><td>0.1096631   </td><td>0           </td><td>2014-10-06  </td></tr>\n",
       "\t<tr><td>73          </td><td>3.003420e-05</td><td>0.03336825  </td><td>0.03339829  </td><td>0.05644119  </td><td>0.01132108  </td><td>0.1054559   </td><td>1           </td><td>2014-10-07  </td></tr>\n",
       "</tbody>\n",
       "</table>\n"
      ],
      "text/latex": [
       "\\begin{tabular}{r|lllllllll}\n",
       " time & first & second & total & Rt & lower & upper & Obs & date\\\\\n",
       "\\hline\n",
       "\t 68           & 8.689993e-05 & 0.07173964   & 0.07182654   & 0.07412268   & 0.01688912   & 0.1263563    & 0            & 2014-10-02  \\\\\n",
       "\t 69           & 7.299791e-05 & 0.06477476   & 0.06484776   & 0.07013945   & 0.01538499   & 0.1227101    & 1            & 2014-10-03  \\\\\n",
       "\t 70           & 6.075383e-05 & 0.05728288   & 0.05734364   & 0.06639277   & 0.01403947   & 0.1186125    & 1            & 2014-10-04  \\\\\n",
       "\t 71           & 4.902833e-05 & 0.04880274   & 0.04885177   & 0.06286923   & 0.01283361   & 0.1140320    & 0            & 2014-10-05  \\\\\n",
       "\t 72           & 3.858833e-05 & 0.04053926   & 0.04057785   & 0.05955609   & 0.01175096   & 0.1096631    & 0            & 2014-10-06  \\\\\n",
       "\t 73           & 3.003420e-05 & 0.03336825   & 0.03339829   & 0.05644119   & 0.01132108   & 0.1054559    & 1            & 2014-10-07  \\\\\n",
       "\\end{tabular}\n"
      ],
      "text/markdown": [
       "\n",
       "time | first | second | total | Rt | lower | upper | Obs | date | \n",
       "|---|---|---|---|---|---|\n",
       "| 68           | 8.689993e-05 | 0.07173964   | 0.07182654   | 0.07412268   | 0.01688912   | 0.1263563    | 0            | 2014-10-02   | \n",
       "| 69           | 7.299791e-05 | 0.06477476   | 0.06484776   | 0.07013945   | 0.01538499   | 0.1227101    | 1            | 2014-10-03   | \n",
       "| 70           | 6.075383e-05 | 0.05728288   | 0.05734364   | 0.06639277   | 0.01403947   | 0.1186125    | 1            | 2014-10-04   | \n",
       "| 71           | 4.902833e-05 | 0.04880274   | 0.04885177   | 0.06286923   | 0.01283361   | 0.1140320    | 0            | 2014-10-05   | \n",
       "| 72           | 3.858833e-05 | 0.04053926   | 0.04057785   | 0.05955609   | 0.01175096   | 0.1096631    | 0            | 2014-10-06   | \n",
       "| 73           | 3.003420e-05 | 0.03336825   | 0.03339829   | 0.05644119   | 0.01132108   | 0.1054559    | 1            | 2014-10-07   | \n",
       "\n",
       "\n"
      ],
      "text/plain": [
       "  time first        second     total      Rt         lower      upper     Obs\n",
       "1 68   8.689993e-05 0.07173964 0.07182654 0.07412268 0.01688912 0.1263563 0  \n",
       "2 69   7.299791e-05 0.06477476 0.06484776 0.07013945 0.01538499 0.1227101 1  \n",
       "3 70   6.075383e-05 0.05728288 0.05734364 0.06639277 0.01403947 0.1186125 1  \n",
       "4 71   4.902833e-05 0.04880274 0.04885177 0.06286923 0.01283361 0.1140320 0  \n",
       "5 72   3.858833e-05 0.04053926 0.04057785 0.05955609 0.01175096 0.1096631 0  \n",
       "6 73   3.003420e-05 0.03336825 0.03339829 0.05644119 0.01132108 0.1054559 1  \n",
       "  date      \n",
       "1 2014-10-02\n",
       "2 2014-10-03\n",
       "3 2014-10-04\n",
       "4 2014-10-05\n",
       "5 2014-10-06\n",
       "6 2014-10-07"
      ]
     },
     "metadata": {},
     "output_type": "display_data"
    },
    {
     "name": "stdout",
     "output_type": "stream",
     "text": [
      "MSE:  2.722 \n"
     ]
    }
   ],
   "source": [
    "# estimated cases in Group 1, Group 2, Group3, and total cases\n",
    "esticase_bygen_gen2 = function(tt,params,num_gen){\n",
    " \n",
    "    tmax = length(tt)\n",
    "    # mu_ip and sigma_ip\n",
    "    ip_para=params[1:2]\n",
    "    # mu_trans, sigma_trans, Rm, epsilon\n",
    "    g_para=params\n",
    "    gtt_generation =ut_bygen_gen2((1:tmax),g_para)\n",
    "    \n",
    "  # probability for cases in Group 1\n",
    "  group1_tb = list()\n",
    "  for (jj in 1:(num_gen+1)){\n",
    "    gtt=gtt_generation[,jj]\n",
    "    \n",
    "    prob.group1=rep(0,tmax)\n",
    "    gt.group1=gtt[case_exact$day_E]    \n",
    "    for (w in 1:tmax){\n",
    "      ip.group1=gam((tt[w]-case_exact$day_E),ip_para)\n",
    "      prob.group1[w]=sum(gt.group1*ip.group1)\n",
    "    }\n",
    "    group1_tb[[jj]]=prob.group1\n",
    "  }\n",
    "  group1_prob = do.call(\"cbind\",group1_tb)\n",
    "  prob_bygen_name =c(\"prob_total\",\"prob_first\",\"prob_second\")\n",
    "  colnames(group1_prob) = prob_bygen_name  \n",
    "\n",
    " # probability for cases in Group 2\n",
    "  t_EL = case_interval$day_EL\n",
    "  t_ER = case_interval$day_ER\n",
    "  group2_tb=list()\n",
    "  for (jj in 1:(num_gen+1)){\n",
    "    gtt=gtt_generation[,jj]    \n",
    "    prob.group2=rep(0,tmax)\n",
    "    for (w in 1:tmax){\n",
    "      group2=rep(0,ncases_group[2])\n",
    "      for (i in 1:ncases_group[2]){\n",
    "        u=(t_EL[i]:t_ER[i])\n",
    "        u<-u[u>0]\n",
    "        group2[i]=sum(gtt[u]*(gam((tt[w]-u),ip_para)))\n",
    "      }\n",
    "      prob.group2[w]=sum(group2)\n",
    "    }\n",
    "    group2_tb[[jj]]=prob.group2\n",
    "  }\n",
    "  group2_prob = do.call(\"cbind\",group2_tb)\n",
    " colnames(group2_prob) = prob_bygen_name   \n",
    "\n",
    "\n",
    " # probability for cases in Group 3\n",
    "group3_tb = list()\n",
    "  for (jj in 1:(num_gen+1)){\n",
    "    gtt=gtt_generation[,jj]\n",
    "    \n",
    "    prob.group3=rep(0,tmax)\n",
    "    for (w in 1:tmax){\n",
    "      (u=(1:(tt[w]-1)))\n",
    "      prob.group3[w]=sum((gtt[u])*(gam((tt[w]-u),ip_para)))\n",
    "    }\n",
    "   group3_tb[[jj]]=prob.group3\n",
    "  }\n",
    "  group3_prob = do.call(\"cbind\",group3_tb)\n",
    "  colnames(group3_prob) = prob_bygen_name  \n",
    "\n",
    "#probability of cases in Group 1, 2, 3  \n",
    "esti_bygen = list(data.frame(group1_prob),data.frame(group2_prob),data.frame(group3_prob))\n",
    "# estimated cases in Group 1, 2, 3\n",
    "    for (kk in 1:n_group){\n",
    "              esti_bygen[[kk]]%<>%\n",
    "               mutate(norm_total=ncases_group[kk]*prob_bygen[[kk]][,1]/(sum(prob_bygen[[kk]][,1])))%>%\n",
    "               mutate(norm_first=ncases_group[kk]*prob_bygen[[kk]][,2]/(sum(prob_bygen[[kk]][,1])))%>%\n",
    "               mutate(norm_second=ncases_group[kk]*prob_bygen[[kk]][,3]/(sum(prob_bygen[[kk]][,1])))%>%\n",
    "               mutate(Group = kk,time=1:tmax)\n",
    "    }\n",
    "############ estimated cases by number of generation  \n",
    "    esti.prob=rbind(esti_bygen[[1]],esti_bygen[[2]],esti_bygen[[3]])\n",
    "    esti_case_bygen<-esti.prob%>%dplyr::select(-prob_bygen_name)%>%\n",
    "                        group_by(time)%>%summarise(first=sum(norm_first),second=sum(norm_second),total=sum(norm_total))\n",
    "  return( esti_case_bygen )\n",
    "}\n",
    "esti_case=esticase_bygen_gen2 (tt,esti_para,num_gen)\n",
    "esti_case_rt = esti_case%>%mutate(Rt=base_Rt,lower=CI_rt$lower,upper=CI_rt$upper,Obs=observed_cases$Total,date=xdate)\n",
    "esti_case_rt%>%tail\n",
    "\n",
    "MSE=mean((esti_case_rt$total-esti_case_rt$Obs)^2)\n",
    "cat(\"MSE: \",round(MSE,4),\"\\n\")\n",
    "\n",
    "Rt_t0 = which(esti_case_rt$date==\"2014-08-23\")\n",
    "esti_case_rt$Rt[1:(Rt_t0-1)]=0\n",
    "esti_case_rt_bygen<-esti_case_rt%>%gather(Epicurve,n,-time,-Obs,-Rt,-date,-lower,-upper)%>%\n",
    "  group_by(Epicurve)%>%\n",
    "  ungroup %>%\n",
    "  mutate(Epicurve=factor(Epicurve,unique(Epicurve)))\n"
   ]
  },
  {
   "cell_type": "markdown",
   "metadata": {},
   "source": [
    "# Figure 3"
   ]
  },
  {
   "cell_type": "code",
   "execution_count": 153,
   "metadata": {},
   "outputs": [
    {
     "data": {},
     "metadata": {},
     "output_type": "display_data"
    },
    {
     "data": {
      "image/png": "[encoded data removed]",
      "text/plain": [
       "plot without title"
      ]
     },
     "metadata": {},
     "output_type": "display_data"
    }
   ],
   "source": [
    "fig_gen  =ggplot(esti_case_rt%>%dplyr::select(Obs,date),mapping=aes(x=date,y=Obs)) +\n",
    "  geom_bar(stat=\"identity\",fill=\"white\",position='dodge',colour=\"black\")+\n",
    "  geom_line(esti_case_rt_bygen,mapping=aes(x=date,y=n, color=Epicurve,size=Epicurve))+\n",
    "  scale_color_manual(name =\"Estimation\",values=c(\"red\",\"blue\",\"black\"),labels=c(\"first\",\"second\",\"total\"))+\n",
    "  scale_size_manual(name =\"Estimation\",values=c(1.5,1.2,1.3),labels=c(\"first\",\"second\",\"total\"))+\n",
    "  coord_x_date(xlim=c(esti_case_rt$date[1]-3,esti_case_rt$date[nrow(esti_case_rt)]),ylim=c(0,12))+\n",
    "   ylab(\"Number of cases\") + xlab(\"day\") +\n",
    "  scale_y_continuous(expand = c(0, 0),breaks=seq(0,12,by=2))+  \n",
    "  scale_x_date(date_breaks=\"7 day\",date_labels=\"%b %d\")+\n",
    "  theme_bw(base_size=10)+theme(axis.text.x=element_text(size=10,angle = 90, vjust=0.5,hjust = 1),axis.text.y=element_text(size=12),axis.title=element_text(size=10),\n",
    "                               plot.title = element_text(size = 12,face=\"bold\"),\n",
    "                               legend.background = element_rect(fill=\"transparent\"), \n",
    "                               panel.grid= element_blank(),\n",
    "                               legend.text=element_text(size=8),\n",
    "                               legend.position = c(0.3,0.99),\n",
    "                               legend.key.width = unit(2, \"line\"),\n",
    "                               panel.border = element_rect(colour = \"black\", fill=NA, size=1),\n",
    "                               legend.justification = c(\"right\", \"top\"))\n",
    "fig_gen"
   ]
  },
  {
   "cell_type": "markdown",
   "metadata": {},
   "source": [
    "# Figure 4"
   ]
  },
  {
   "cell_type": "code",
   "execution_count": 159,
   "metadata": {},
   "outputs": [
    {
     "data": {},
     "metadata": {},
     "output_type": "display_data"
    },
    {
     "data": {
      "image/png": "[encoded data removed]",
      "text/plain": [
       "plot without title"
      ]
     },
     "metadata": {},
     "output_type": "display_data"
    }
   ],
   "source": [
    " fig_Rt = ggplot(esti_case_rt%>%dplyr::select(Obs,date),mapping=aes(x=date,y=Obs)) +\n",
    "    geom_bar(stat=\"identity\",fill=\"white\",position='dodge',colour=\"black\")+\n",
    "    geom_ribbon(esti_case_rt%>%filter(Rt>0),mapping=aes(ymin=lower/1.35,ymax=upper/1.35), alpha=0.5,fill=\"deepskyblue2\")+\n",
    "     coord_x_date(ylim=c(0,12))+\n",
    "    ylab(\"Number of cases\") + xlab(\"day\") +\n",
    "    scale_x_date(date_breaks=\"7 day\",date_labels=\"%b %d\")+\n",
    "    scale_y_continuous(expand = c(0, 0),breaks=seq(0,12,by=2),sec.axis = sec_axis(~1.35*.,name=\"R(t)\",breaks=seq(0,12,2)))+\n",
    "    geom_vline(xintercept = as.Date(c(Tdate[1],Tdate[2])),color=\"red\",size=1.2,linetype=\"dashed\") +\n",
    "    geom_hline(yintercept = 1/1.35, size=1.2,color=\"black\",linetype=\"dotdash\") +\n",
    " geom_line(esti_case_rt%>%filter(Rt>0),mapping=aes(x=date,y=Rt/1.35),color=\"black\",linetype=\"solid\",size=1.0) +\n",
    "    \n",
    "theme_bw(base_size=10)+theme(axis.text.x=element_text(size=10,angle = 90, vjust=0.5,hjust = 1),axis.text.y=element_text(size=12),axis.title=element_text(size=10),\n",
    "                                 plot.title = element_text(size = 12,face=\"bold\"),\n",
    "                                 legend.background = element_rect(fill=\"transparent\"),\n",
    "                                 panel.grid= element_blank(),\n",
    "                                 legend.text=element_text(size=10),\n",
    "                                 legend.position = c(0.95,0.99),\n",
    "                                 panel.border = element_rect(colour = \"black\", fill=NA, size=1),\n",
    "                                 legend.justification = c(\"right\", \"top\"))\n",
    "fig_Rt"
   ]
  },
  {
   "cell_type": "code",
   "execution_count": null,
   "metadata": {
    "collapsed": true
   },
   "outputs": [],
   "source": []
  }
 ],
 "metadata": {
  "kernelspec": {
   "display_name": "R",
   "language": "R",
   "name": "ir"
  },
  "language_info": {
   "codemirror_mode": "r",
   "file_extension": ".r",
   "mimetype": "text/x-r-source",
   "name": "R",
   "pygments_lexer": "r",
   "version": "3.4.4"
  }
 },
 "nbformat": 4,
 "nbformat_minor": 2
}
